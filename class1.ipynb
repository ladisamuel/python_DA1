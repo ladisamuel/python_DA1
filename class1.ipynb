{
 "cells": [
  {
   "cell_type": "markdown",
   "metadata": {},
   "source": [
    "# Python for Data Analysis \n",
    "## Course Content:\n",
    "\n",
    "* Recap of the basics\n",
    "* Data wrangling with Panda and Numpy\n",
    "* Data visualilzation with Seaborn, Plotly and Matplotlib\n",
    "* Statistical analysis with Scipy, Statsmodel\n",
    "* Data modelling with Sklearn\n",
    "* Projects"
   ]
  },
  {
   "cell_type": "markdown",
   "metadata": {},
   "source": [
    "### Recap of the basics\n",
    "* while loop\n",
    "* comprehensive list\n",
    "* lambda function"
   ]
  },
  {
   "cell_type": "code",
   "execution_count": null,
   "metadata": {},
   "outputs": [],
   "source": [
    "for eachNumber in range(5):\n",
    "    print(eachNumber)\n",
    "\n",
    "print('')\n",
    "x = 20\n",
    "while x > 10:\n",
    "    print(x)\n",
    "    x -= 1"
   ]
  },
  {
   "cell_type": "code",
   "execution_count": 13,
   "metadata": {},
   "outputs": [
    {
     "data": {
      "text/plain": [
       "[0, 2, 4, 6, 8, 10, 12, 14, 16, 18]"
      ]
     },
     "execution_count": 13,
     "metadata": {},
     "output_type": "execute_result"
    }
   ],
   "source": [
    "evenNumber = []\n",
    "\n",
    "\n",
    "for eachNumber in range(20):\n",
    "    if eachNumber % 2 == 0:\n",
    "        evenNumber.append(eachNumber)\n",
    "    else:\n",
    "        pass\n",
    "\n",
    "evenNumber"
   ]
  },
  {
   "cell_type": "code",
   "execution_count": 14,
   "metadata": {},
   "outputs": [
    {
     "data": {
      "text/plain": [
       "[1, 3, 5, 7, 9, 11, 13, 15, 17, 19]"
      ]
     },
     "execution_count": 14,
     "metadata": {},
     "output_type": "execute_result"
    }
   ],
   "source": [
    "oddNumber = [eachNumber for eachNumber in range(20) if eachNumber % 2 != 0]\n",
    "\n",
    "oddNumber\n",
    "\n"
   ]
  },
  {
   "cell_type": "code",
   "execution_count": 18,
   "metadata": {},
   "outputs": [
    {
     "data": {
      "text/plain": [
       "90"
      ]
     },
     "execution_count": 18,
     "metadata": {},
     "output_type": "execute_result"
    }
   ],
   "source": [
    "add = lambda x, y: x + y\n",
    "\n",
    "def addNumbers(x, y):\n",
    "    result = x + y\n",
    "    return result\n",
    "\n",
    "addNumbers(13, 44)\n",
    "\n",
    "add(89, 1)\n"
   ]
  },
  {
   "cell_type": "code",
   "execution_count": 22,
   "metadata": {},
   "outputs": [
    {
     "data": {
      "text/plain": [
       "93"
      ]
     },
     "execution_count": 22,
     "metadata": {},
     "output_type": "execute_result"
    }
   ],
   "source": [
    "add(93, 2)\n",
    "\n",
    "subtract(100, 7)"
   ]
  },
  {
   "cell_type": "code",
   "execution_count": 21,
   "metadata": {},
   "outputs": [],
   "source": [
    "subtract = lambda x, y: x - y"
   ]
  },
  {
   "cell_type": "code",
   "execution_count": null,
   "metadata": {},
   "outputs": [],
   "source": [
    "# Write a student report program that grades students based on their score\n",
    "# grade = 850 / score\n",
    "\n",
    "# Hello Bukola, your aggregate is 57"
   ]
  },
  {
   "cell_type": "code",
   "execution_count": 25,
   "metadata": {},
   "outputs": [
    {
     "name": "stdout",
     "output_type": "stream",
     "text": [
      "Hello Bukola, your aggregate is 14.912280701754385\n"
     ]
    }
   ],
   "source": [
    "student_name = input('Enter student name: ')\n",
    "student_score = input('Enter student score: ')\n",
    "try:\n",
    "    grade = 850 / int(student_score)\n",
    "    print(f'Hello {student_name}, your aggregate is {grade}')\n",
    "except:\n",
    "    pass"
   ]
  },
  {
   "cell_type": "code",
   "execution_count": 29,
   "metadata": {},
   "outputs": [
    {
     "name": "stdout",
     "output_type": "stream",
     "text": [
      "Hello Bukola, your aggregate is 14.912280701754385\n",
      "Hello Ibrahim, your aggregate is 11.486486486486486\n",
      "Hello Babatunde, your aggregate is 8.947368421052632\n",
      "Error with score\n",
      "Hello Orogun, your aggregate is 42.5\n",
      "Thank you for using our program\n"
     ]
    }
   ],
   "source": [
    "while True:\n",
    "    student_name = input('Enter student name or Stop: ')\n",
    "\n",
    "    if student_name.upper() == 'STOP':\n",
    "        print('Thank you for using our program')\n",
    "        break\n",
    "\n",
    "    else:\n",
    "        student_score = input('Enter student score: ')\n",
    "        try:\n",
    "            grade = 850 / int(student_score)\n",
    "            print(f'Hello {student_name}, your aggregate is {grade}')\n",
    "        except:\n",
    "            print('Error with score')"
   ]
  },
  {
   "cell_type": "code",
   "execution_count": null,
   "metadata": {},
   "outputs": [],
   "source": []
  },
  {
   "cell_type": "code",
   "execution_count": null,
   "metadata": {},
   "outputs": [],
   "source": []
  }
 ],
 "metadata": {
  "kernelspec": {
   "display_name": "Python 3",
   "language": "python",
   "name": "python3"
  },
  "language_info": {
   "codemirror_mode": {
    "name": "ipython",
    "version": 3
   },
   "file_extension": ".py",
   "mimetype": "text/x-python",
   "name": "python",
   "nbconvert_exporter": "python",
   "pygments_lexer": "ipython3",
   "version": "3.6.8"
  },
  "orig_nbformat": 4
 },
 "nbformat": 4,
 "nbformat_minor": 2
}
